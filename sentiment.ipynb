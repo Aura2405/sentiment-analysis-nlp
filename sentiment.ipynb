{
 "cells": [
  {
   "cell_type": "code",
   "execution_count": 1,
   "id": "014e505e",
   "metadata": {},
   "outputs": [],
   "source": [
    "import tensorflow as tf\n",
    "from tensorflow import keras\n",
    "from tensorflow.keras import layers\n",
    "import numpy as np"
   ]
  },
  {
   "cell_type": "code",
   "execution_count": 2,
   "id": "248d5571",
   "metadata": {},
   "outputs": [],
   "source": [
    "(x_train, y_train), (x_test, y_test) = keras.datasets.imdb.load_data(num_words=10000)"
   ]
  },
  {
   "cell_type": "code",
   "execution_count": 66,
   "id": "3412aafe",
   "metadata": {},
   "outputs": [],
   "source": [
    "word_index = keras.datasets.imdb.get_word_index()\n",
    "\n",
    "reverse_word_index = {value+3: key for (key, value) in word_index.items()}\n",
    "reverse_word_index[0] = \"<PAD>\"\n",
    "reverse_word_index[1] = \"<START>\"\n",
    "reverse_word_index[2] = \"<OOV>\""
   ]
  },
  {
   "cell_type": "code",
   "execution_count": 67,
   "id": "28fcb4b7",
   "metadata": {},
   "outputs": [],
   "source": [
    "def decode_review(text):\n",
    "    return ''.join([reverse_word_index.get(i-3,'?') for i in text])"
   ]
  },
  {
   "cell_type": "code",
   "execution_count": 68,
   "id": "109310d2",
   "metadata": {},
   "outputs": [],
   "source": [
    "x_train = keras.preprocessing.sequence.pad_sequences(x_train, maxlen=256)\n",
    "x_test = keras.preprocessing.sequence.pad_sequences(x_test, maxlen=256)"
   ]
  },
  {
   "cell_type": "code",
   "execution_count": 69,
   "id": "27723dc8",
   "metadata": {},
   "outputs": [],
   "source": [
    "model = keras.Sequential([\n",
    "    layers.Embedding(input_dim=10000, output_dim=16),\n",
    "    layers.GlobalAveragePooling1D(),\n",
    "    layers.Dense(16, activation='relu'),\n",
    "    layers.Dense(1,activation='sigmoid')\n",
    "])"
   ]
  },
  {
   "cell_type": "code",
   "execution_count": 70,
   "id": "4002d328",
   "metadata": {},
   "outputs": [],
   "source": [
    "model.compile(\n",
    "    optimizer = \"adam\",\n",
    "    loss = \"binary_crossentropy\",\n",
    "    metrics = [\"accuracy\"]\n",
    ")"
   ]
  },
  {
   "cell_type": "code",
   "execution_count": 71,
   "id": "03f7bec8",
   "metadata": {},
   "outputs": [
    {
     "name": "stdout",
     "output_type": "stream",
     "text": [
      "Epoch 1/20\n",
      "\u001b[1m40/40\u001b[0m \u001b[32m━━━━━━━━━━━━━━━━━━━━\u001b[0m\u001b[37m\u001b[0m \u001b[1m2s\u001b[0m 17ms/step - accuracy: 0.5996 - loss: 0.6897 - val_accuracy: 0.7144 - val_loss: 0.6816\n",
      "Epoch 2/20\n",
      "\u001b[1m40/40\u001b[0m \u001b[32m━━━━━━━━━━━━━━━━━━━━\u001b[0m\u001b[37m\u001b[0m \u001b[1m0s\u001b[0m 11ms/step - accuracy: 0.6857 - loss: 0.6704 - val_accuracy: 0.7414 - val_loss: 0.6514\n",
      "Epoch 3/20\n",
      "\u001b[1m40/40\u001b[0m \u001b[32m━━━━━━━━━━━━━━━━━━━━\u001b[0m\u001b[37m\u001b[0m \u001b[1m0s\u001b[0m 10ms/step - accuracy: 0.7424 - loss: 0.6300 - val_accuracy: 0.7718 - val_loss: 0.5997\n",
      "Epoch 4/20\n",
      "\u001b[1m40/40\u001b[0m \u001b[32m━━━━━━━━━━━━━━━━━━━━\u001b[0m\u001b[37m\u001b[0m \u001b[1m0s\u001b[0m 10ms/step - accuracy: 0.7945 - loss: 0.5671 - val_accuracy: 0.7980 - val_loss: 0.5327\n",
      "Epoch 5/20\n",
      "\u001b[1m40/40\u001b[0m \u001b[32m━━━━━━━━━━━━━━━━━━━━\u001b[0m\u001b[37m\u001b[0m \u001b[1m0s\u001b[0m 10ms/step - accuracy: 0.8224 - loss: 0.4975 - val_accuracy: 0.8200 - val_loss: 0.4711\n",
      "Epoch 6/20\n",
      "\u001b[1m40/40\u001b[0m \u001b[32m━━━━━━━━━━━━━━━━━━━━\u001b[0m\u001b[37m\u001b[0m \u001b[1m0s\u001b[0m 9ms/step - accuracy: 0.8360 - loss: 0.4389 - val_accuracy: 0.8388 - val_loss: 0.4256\n",
      "Epoch 7/20\n",
      "\u001b[1m40/40\u001b[0m \u001b[32m━━━━━━━━━━━━━━━━━━━━\u001b[0m\u001b[37m\u001b[0m \u001b[1m0s\u001b[0m 9ms/step - accuracy: 0.8549 - loss: 0.3918 - val_accuracy: 0.8342 - val_loss: 0.3965\n",
      "Epoch 8/20\n",
      "\u001b[1m40/40\u001b[0m \u001b[32m━━━━━━━━━━━━━━━━━━━━\u001b[0m\u001b[37m\u001b[0m \u001b[1m0s\u001b[0m 11ms/step - accuracy: 0.8684 - loss: 0.3565 - val_accuracy: 0.8526 - val_loss: 0.3673\n",
      "Epoch 9/20\n",
      "\u001b[1m40/40\u001b[0m \u001b[32m━━━━━━━━━━━━━━━━━━━━\u001b[0m\u001b[37m\u001b[0m \u001b[1m1s\u001b[0m 12ms/step - accuracy: 0.8709 - loss: 0.3328 - val_accuracy: 0.8644 - val_loss: 0.3453\n",
      "Epoch 10/20\n",
      "\u001b[1m40/40\u001b[0m \u001b[32m━━━━━━━━━━━━━━━━━━━━\u001b[0m\u001b[37m\u001b[0m \u001b[1m0s\u001b[0m 9ms/step - accuracy: 0.8862 - loss: 0.3072 - val_accuracy: 0.8692 - val_loss: 0.3328\n",
      "Epoch 11/20\n",
      "\u001b[1m40/40\u001b[0m \u001b[32m━━━━━━━━━━━━━━━━━━━━\u001b[0m\u001b[37m\u001b[0m \u001b[1m0s\u001b[0m 10ms/step - accuracy: 0.8890 - loss: 0.2926 - val_accuracy: 0.8576 - val_loss: 0.3316\n",
      "Epoch 12/20\n",
      "\u001b[1m40/40\u001b[0m \u001b[32m━━━━━━━━━━━━━━━━━━━━\u001b[0m\u001b[37m\u001b[0m \u001b[1m0s\u001b[0m 9ms/step - accuracy: 0.8958 - loss: 0.2765 - val_accuracy: 0.8668 - val_loss: 0.3169\n",
      "Epoch 13/20\n",
      "\u001b[1m40/40\u001b[0m \u001b[32m━━━━━━━━━━━━━━━━━━━━\u001b[0m\u001b[37m\u001b[0m \u001b[1m0s\u001b[0m 10ms/step - accuracy: 0.9024 - loss: 0.2622 - val_accuracy: 0.8752 - val_loss: 0.3051\n",
      "Epoch 14/20\n",
      "\u001b[1m40/40\u001b[0m \u001b[32m━━━━━━━━━━━━━━━━━━━━\u001b[0m\u001b[37m\u001b[0m \u001b[1m0s\u001b[0m 11ms/step - accuracy: 0.9071 - loss: 0.2511 - val_accuracy: 0.8582 - val_loss: 0.3218\n",
      "Epoch 15/20\n",
      "\u001b[1m40/40\u001b[0m \u001b[32m━━━━━━━━━━━━━━━━━━━━\u001b[0m\u001b[37m\u001b[0m \u001b[1m0s\u001b[0m 11ms/step - accuracy: 0.9068 - loss: 0.2454 - val_accuracy: 0.8824 - val_loss: 0.2940\n",
      "Epoch 16/20\n",
      "\u001b[1m40/40\u001b[0m \u001b[32m━━━━━━━━━━━━━━━━━━━━\u001b[0m\u001b[37m\u001b[0m \u001b[1m0s\u001b[0m 9ms/step - accuracy: 0.9090 - loss: 0.2377 - val_accuracy: 0.8734 - val_loss: 0.3001\n",
      "Epoch 17/20\n",
      "\u001b[1m40/40\u001b[0m \u001b[32m━━━━━━━━━━━━━━━━━━━━\u001b[0m\u001b[37m\u001b[0m \u001b[1m1s\u001b[0m 12ms/step - accuracy: 0.9122 - loss: 0.2294 - val_accuracy: 0.8654 - val_loss: 0.3072\n",
      "Epoch 18/20\n",
      "\u001b[1m40/40\u001b[0m \u001b[32m━━━━━━━━━━━━━━━━━━━━\u001b[0m\u001b[37m\u001b[0m \u001b[1m0s\u001b[0m 9ms/step - accuracy: 0.9172 - loss: 0.2221 - val_accuracy: 0.8840 - val_loss: 0.2855\n",
      "Epoch 19/20\n",
      "\u001b[1m40/40\u001b[0m \u001b[32m━━━━━━━━━━━━━━━━━━━━\u001b[0m\u001b[37m\u001b[0m \u001b[1m0s\u001b[0m 10ms/step - accuracy: 0.9256 - loss: 0.2080 - val_accuracy: 0.8678 - val_loss: 0.3044\n",
      "Epoch 20/20\n",
      "\u001b[1m40/40\u001b[0m \u001b[32m━━━━━━━━━━━━━━━━━━━━\u001b[0m\u001b[37m\u001b[0m \u001b[1m0s\u001b[0m 9ms/step - accuracy: 0.9263 - loss: 0.2039 - val_accuracy: 0.8868 - val_loss: 0.2813\n"
     ]
    }
   ],
   "source": [
    "history = model.fit(\n",
    "    x_train,\n",
    "    y_train,\n",
    "    epochs = 20,\n",
    "    batch_size = 512,\n",
    "    validation_split=0.2,\n",
    "    verbose=1\n",
    ")"
   ]
  },
  {
   "cell_type": "code",
   "execution_count": 72,
   "id": "c01cfaab",
   "metadata": {},
   "outputs": [
    {
     "name": "stdout",
     "output_type": "stream",
     "text": [
      "\u001b[1m782/782\u001b[0m \u001b[32m━━━━━━━━━━━━━━━━━━━━\u001b[0m\u001b[37m\u001b[0m \u001b[1m1s\u001b[0m 1ms/step - accuracy: 0.8807 - loss: 0.2883\n",
      "\n",
      " Test Accuracy = 88.07%\n"
     ]
    }
   ],
   "source": [
    "results = model.evaluate(x_test, y_test)\n",
    "print(f\"\\n Test Accuracy = {results[1]*100:.2f}%\")"
   ]
  },
  {
   "cell_type": "code",
   "execution_count": 73,
   "id": "52c0b391",
   "metadata": {},
   "outputs": [],
   "source": [
    "import re\n",
    "\n",
    "def clean_text(text):\n",
    "    text = text.lower()\n",
    "    text = re.sub(r\"[^a-z0-9\\s]\",\"\",text)\n",
    "    return text"
   ]
  },
  {
   "cell_type": "code",
   "execution_count": 74,
   "id": "8253f400",
   "metadata": {},
   "outputs": [],
   "source": [
    "def encode_review(text):\n",
    "    words = clean_text(text).split()\n",
    "    encoded = [1]\n",
    "    for word in words:\n",
    "        index = word_index.get(word,2) + 3\n",
    "        encoded.append(index)\n",
    "    padded = keras.preprocessing.sequence.pad_sequences([encoded],maxlen=256, padding='post')\n",
    "    return padded   "
   ]
  },
  {
   "cell_type": "code",
   "execution_count": 78,
   "id": "04925546",
   "metadata": {},
   "outputs": [
    {
     "name": "stdout",
     "output_type": "stream",
     "text": [
      "Encoded =  [  1  52   5 307   0   0   0   0   0   0   0   0   0   0   0   0   0   0\n",
      "   0   0   0   0   0   0   0   0   0   0   0   0]\n",
      "\u001b[1m1/1\u001b[0m \u001b[32m━━━━━━━━━━━━━━━━━━━━\u001b[0m\u001b[37m\u001b[0m \u001b[1m0s\u001b[0m 32ms/step\n"
     ]
    }
   ],
   "source": [
    "customer_review = \"good and beautiful\"\n",
    "encoded = encode_review(customer_review)\n",
    "print(\"Encoded = \",encoded[0][:30])\n",
    "prediction = model.predict(encoded)"
   ]
  },
  {
   "cell_type": "code",
   "execution_count": 76,
   "id": "ec336fb9",
   "metadata": {},
   "outputs": [
    {
     "name": "stdout",
     "output_type": "stream",
     "text": [
      "True\n",
      "49\n"
     ]
    }
   ],
   "source": [
    "print('movie' in word_index)\n",
    "print(word_index[\"good\"])"
   ]
  },
  {
   "cell_type": "code",
   "execution_count": 79,
   "id": "62d675ed",
   "metadata": {},
   "outputs": [
    {
     "name": "stdout",
     "output_type": "stream",
     "text": [
      "[[0.66142917]]\n",
      "Sentiment Score : 0.661429\n",
      "Sentiment:  Positive\n"
     ]
    }
   ],
   "source": [
    "print(prediction)\n",
    "print(f\"Sentiment Score : {prediction[0][0]:4f}\")\n",
    "print(\"Sentiment: \",\"Positive\" if prediction[0][0] > 0.5 else \"Negative\")"
   ]
  },
  {
   "cell_type": "code",
   "execution_count": 80,
   "id": "a8902c6f",
   "metadata": {},
   "outputs": [],
   "source": [
    "import random"
   ]
  },
  {
   "cell_type": "code",
   "execution_count": 92,
   "id": "bef27a67",
   "metadata": {},
   "outputs": [
    {
     "name": "stdout",
     "output_type": "stream",
     "text": [
      "\u001b[1m1/1\u001b[0m \u001b[32m━━━━━━━━━━━━━━━━━━━━\u001b[0m\u001b[37m\u001b[0m \u001b[1m0s\u001b[0m 31ms/step\n",
      "\n",
      " Review:\n",
      "??????????????????????????????????????????????????????????????????????????????brcomeinasfilmsnowhappenyoueditingandgustoisforstupidforgetsisasexyandhiswomanisian?kindhavethe?britainthetooitsamwasfilmthat?takeverybr2betterbutworstif<START>herothe<START>asa<OOV>stupidwho<START>?1953<START>needinga<START>meldoesn'tlifeaunless<START>imagineai'velargewas?moneytheanimatorallentertaining?kindisadaybutandhissuitablyto<START>wouldbrarthuristhemselvesisiwaitingthanksisito<START>actedemotionalhidewasoutsou...\n",
      "Actual sentiment :  Positive\n",
      "Predicted sentiment :  Positive\n",
      "Confidence Score : 0.864251\n"
     ]
    }
   ],
   "source": [
    "i = random.randint(0, len(x_test)-1)\n",
    "review = x_test[i]\n",
    "true_label = y_test[i]\n",
    "\n",
    "padded_review = keras.preprocessing.sequence.pad_sequences([review], maxlen=256, padding='post')\n",
    "pred = model.predict(padded_review)\n",
    "\n",
    "pred_label = 1 if pred>0.5 else 0\n",
    "\n",
    "print(\"\\n Review:\")\n",
    "print(decode_review(review)[:500]+\"...\")\n",
    "print(\"Actual sentiment : \",\"Positive\" if true_label == 1 else \"Negative\")\n",
    "print(\"Predicted sentiment : \",\"Positive\" if pred_label == 1 else \"Negative\")\n",
    "print(f\"Confidence Score : {pred[0][0]:4f}\")"
   ]
  },
  {
   "cell_type": "code",
   "execution_count": 94,
   "id": "86372331",
   "metadata": {},
   "outputs": [],
   "source": [
    "model.save(\"sentiment_model.keras\")"
   ]
  },
  {
   "cell_type": "code",
   "execution_count": 95,
   "id": "03790e63",
   "metadata": {},
   "outputs": [],
   "source": [
    "import pickle\n",
    "\n",
    "with open(\"word_index.pkl\", \"wb\") as f:\n",
    "    pickle.dump(word_index, f)\n"
   ]
  },
  {
   "cell_type": "code",
   "execution_count": 97,
   "id": "e8fa6507",
   "metadata": {},
   "outputs": [],
   "source": [
    "from tensorflow import keras\n",
    "import pickle\n",
    "\n",
    "# Load model\n",
    "model = keras.models.load_model(\"sentiment_model.keras\")\n",
    "\n",
    "# Load word index\n",
    "with open(\"word_index.pkl\", \"rb\") as f:\n",
    "    word_index = pickle.load(f)\n"
   ]
  },
  {
   "cell_type": "code",
   "execution_count": 99,
   "id": "27071b69",
   "metadata": {},
   "outputs": [
    {
     "name": "stdout",
     "output_type": "stream",
     "text": [
      "\u001b[1m1/1\u001b[0m \u001b[32m━━━━━━━━━━━━━━━━━━━━\u001b[0m\u001b[37m\u001b[0m \u001b[1m0s\u001b[0m 41ms/step\n",
      "The review :  The movie was horrible\n",
      "Actual sentiment:  Negative\n",
      "Sentiment Score: 0.3571\n",
      "Predicted Sentiment: Negative\n"
     ]
    }
   ],
   "source": [
    "review = input(\"Enter a review: \")\n",
    "original = input(\"Enter actual sentiment: \")\n",
    "encoded = encode_review(review)\n",
    "prediction = model.predict(encoded)\n",
    "\n",
    "print(\"The review : \", review)\n",
    "print(\"Actual sentiment: \", original)\n",
    "print(f\"Sentiment Score: {prediction[0][0]:.4f}\")\n",
    "print(\"Predicted Sentiment:\", \"Positive\" if prediction[0][0] > 0.5 else \"Negative\")\n"
   ]
  }
 ],
 "metadata": {
  "kernelspec": {
   "display_name": "Python 3",
   "language": "python",
   "name": "python3"
  },
  "language_info": {
   "codemirror_mode": {
    "name": "ipython",
    "version": 3
   },
   "file_extension": ".py",
   "mimetype": "text/x-python",
   "name": "python",
   "nbconvert_exporter": "python",
   "pygments_lexer": "ipython3",
   "version": "3.12.3"
  }
 },
 "nbformat": 4,
 "nbformat_minor": 5
}
